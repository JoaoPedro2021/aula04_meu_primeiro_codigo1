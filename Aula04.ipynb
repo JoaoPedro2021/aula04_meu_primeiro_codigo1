{
  "nbformat": 4,
  "nbformat_minor": 0,
  "metadata": {
    "colab": {
      "name": "Aula04.ipynb",
      "provenance": [],
      "authorship_tag": "ABX9TyM6D85UqQ2nUO9936sEeKY7",
      "include_colab_link": true
    },
    "kernelspec": {
      "name": "python3",
      "display_name": "Python 3"
    },
    "language_info": {
      "name": "python"
    }
  },
  "cells": [
    {
      "cell_type": "markdown",
      "metadata": {
        "id": "view-in-github",
        "colab_type": "text"
      },
      "source": [
        "<a href=\"https://colab.research.google.com/github/JoaoPedro2021/aula04_meu_primeiro_codigo1/blob/main/Aula04.ipynb\" target=\"_parent\"><img src=\"https://colab.research.google.com/assets/colab-badge.svg\" alt=\"Open In Colab\"/></a>"
      ]
    },
    {
      "cell_type": "markdown",
      "source": [
        "#Esse é o meu primeiro codigo em python!\n",
        "##semelhança com pseudocodigo"
      ],
      "metadata": {
        "id": "XZcYmfVVBdWR"
      }
    },
    {
      "cell_type": "code",
      "execution_count": null,
      "metadata": {
        "colab": {
          "base_uri": "https://localhost:8080/"
        },
        "id": "XPq1ney2BLe_",
        "outputId": "c5c7592e-0d4f-455b-eda0-77dbca9c530e"
      },
      "outputs": [
        {
          "output_type": "stream",
          "name": "stdout",
          "text": [
            "Valor de é y 0\n",
            "\n",
            "\n",
            "5\n",
            "6\n",
            "7\n",
            "8\n",
            "9\n",
            "\n",
            "\n",
            "0\n",
            "1\n",
            "2\n",
            "3\n",
            "4\n",
            "5\n",
            "6\n",
            "7\n",
            "8\n",
            "9\n",
            "\n",
            "\n",
            "5\n",
            "6\n",
            "7\n",
            "8\n",
            "9\n",
            "\n",
            "\n",
            "5\n",
            "7\n",
            "9\n",
            "\n",
            "\n",
            "Valor de é y 1\n",
            "\n",
            "\n",
            "5\n",
            "6\n",
            "7\n",
            "8\n",
            "9\n",
            "\n",
            "\n",
            "0\n",
            "1\n",
            "2\n",
            "3\n",
            "4\n",
            "5\n",
            "6\n",
            "7\n",
            "8\n",
            "9\n",
            "\n",
            "\n",
            "5\n",
            "6\n",
            "7\n",
            "8\n",
            "9\n",
            "\n",
            "\n",
            "5\n",
            "7\n",
            "9\n",
            "\n",
            "\n",
            "Valor de é y 2\n",
            "\n",
            "\n",
            "5\n",
            "6\n",
            "7\n",
            "8\n",
            "9\n",
            "\n",
            "\n",
            "0\n",
            "1\n",
            "2\n",
            "3\n",
            "4\n",
            "5\n",
            "6\n",
            "7\n",
            "8\n",
            "9\n",
            "\n",
            "\n",
            "5\n",
            "6\n",
            "7\n",
            "8\n",
            "9\n",
            "\n",
            "\n",
            "5\n",
            "7\n",
            "9\n",
            "\n",
            "\n",
            "Valor de é y 3\n",
            "\n",
            "\n",
            "5\n",
            "6\n",
            "7\n",
            "8\n",
            "9\n",
            "\n",
            "\n",
            "0\n",
            "1\n",
            "2\n",
            "3\n",
            "4\n",
            "5\n",
            "6\n",
            "7\n",
            "8\n",
            "9\n",
            "\n",
            "\n",
            "5\n",
            "6\n",
            "7\n",
            "8\n",
            "9\n",
            "\n",
            "\n",
            "5\n",
            "7\n",
            "9\n",
            "\n",
            "\n"
          ]
        }
      ],
      "source": [
        "x = 5\n",
        "if x == 5:\n",
        "  y = 0\n",
        "  while y < 4:\n",
        "    print('Valor de é y', y)\n",
        "    # print('\\n') Essa linha codigo pula uma linha \n",
        "    y = y + 1\n",
        "    print('\\n')\n",
        "    \n",
        "    for i in [5,6,7,8,9]:\n",
        "      print(i)\n",
        "    print('\\n')\n",
        "\n",
        "    for i in range(10):\n",
        "      print(i)\n",
        "    print('\\n')\n",
        "\n",
        "    for i in range(5,10):\n",
        "      print(i)\n",
        "    print('\\n')\n",
        "\n",
        "    for i in range(5,10,2):\n",
        "      print(i)\n",
        "    print('\\n')"
      ]
    },
    {
      "cell_type": "markdown",
      "source": [
        "Ctrl  + / Comenta o codigo\n",
        "##Qual o tipo de variavel ?\n",
        "##\n",
        "##Voltando para semelhança com pseudocodigo"
      ],
      "metadata": {
        "id": "iLe4Mmz4GCOE"
      }
    },
    {
      "cell_type": "code",
      "source": [
        "# print(type(x))  Type uma função que devolve o tipo da variavel\n",
        "# print(type(\"x\"))\n",
        "\n"
      ],
      "metadata": {
        "id": "JBPVYvcWEAO9"
      },
      "execution_count": null,
      "outputs": []
    },
    {
      "cell_type": "code",
      "source": [
        ""
      ],
      "metadata": {
        "id": "L8xWfHhnInb0"
      },
      "execution_count": null,
      "outputs": []
    }
  ]
}