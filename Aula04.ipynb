{
  "nbformat": 4,
  "nbformat_minor": 0,
  "metadata": {
    "colab": {
      "provenance": [],
      "collapsed_sections": [],
      "toc_visible": true,
      "authorship_tag": "ABX9TyMlKgrl0NG2oqLugfSy4rGy",
      "include_colab_link": true
    },
    "kernelspec": {
      "name": "python3",
      "display_name": "Python 3"
    },
    "language_info": {
      "name": "python"
    }
  },
  "cells": [
    {
      "cell_type": "markdown",
      "metadata": {
        "id": "view-in-github",
        "colab_type": "text"
      },
      "source": [
        "<a href=\"https://colab.research.google.com/github/JoaoPedro2021/aula04_meu_primeiro_codigo1/blob/main/Aula04.ipynb\" target=\"_parent\"><img src=\"https://colab.research.google.com/assets/colab-badge.svg\" alt=\"Open In Colab\"/></a>"
      ]
    },
    {
      "cell_type": "markdown",
      "source": [
        "#Esse é o meu primeiro codigo em python!\n",
        "##semelhança com pseudocodigo"
      ],
      "metadata": {
        "id": "XZcYmfVVBdWR"
      }
    },
    {
      "cell_type": "code",
      "execution_count": null,
      "metadata": {
        "id": "XPq1ney2BLe_"
      },
      "outputs": [],
      "source": [
        "x = 5\n",
        "if x == 5:\n",
        "  y = 0\n",
        "  while y < 4:\n",
        "    print('Valor de é y', y)\n",
        "    # print('\\n') Essa linha codigo pula uma linha \n",
        "    y = y + 1\n",
        "    print('\\n')\n",
        "    \n",
        "    for i in [5,6,7,8,9]:\n",
        "      print(i)\n",
        "    print('\\n')\n",
        "\n",
        "    for i in range(10):\n",
        "      print(i)\n",
        "    print('\\n')\n",
        "\n",
        "    for i in range(5,10):\n",
        "      print(i)\n",
        "    print('\\n')\n",
        "\n",
        "    for i in range(5,10,2):\n",
        "      print(i)\n",
        "    print('\\n')"
      ]
    },
    {
      "cell_type": "markdown",
      "source": [
        "Ctrl  + / Comenta o codigo\n",
        "##Qual o tipo de variavel ?\n",
        "##\n",
        "##Voltando para semelhança com pseudocodigo\n",
        "##\n",
        "##Input"
      ],
      "metadata": {
        "id": "iLe4Mmz4GCOE"
      }
    },
    {
      "cell_type": "code",
      "source": [
        "# print(type(x))  Type uma função que devolve o tipo da variavel\n",
        "# print(type(\"x\"))\n",
        "# input pede a entreda de dado fornecida pelo usuario\n",
        "# nome = input('Escreva seu nome')\n",
        "# print('o nome digitado foi ', nome)"
      ],
      "metadata": {
        "id": "JBPVYvcWEAO9"
      },
      "execution_count": null,
      "outputs": []
    },
    {
      "cell_type": "code",
      "source": [
        "num  = int(input('Escreva um numero '))\n",
        "print('você digitou o número', num)\n"
      ],
      "metadata": {
        "id": "L8xWfHhnInb0",
        "colab": {
          "base_uri": "https://localhost:8080/"
        },
        "outputId": "29e9e117-1d51-4461-b9b0-15816d06c1aa"
      },
      "execution_count": null,
      "outputs": [
        {
          "output_type": "stream",
          "name": "stdout",
          "text": [
            "Escreva um numero 2\n",
            "você digitou o número 2\n"
          ]
        }
      ]
    },
    {
      "cell_type": "code",
      "source": [],
      "metadata": {
        "id": "3X27EDHUrFBR"
      },
      "execution_count": null,
      "outputs": []
    },
    {
      "cell_type": "markdown",
      "source": [
        "#Lista de exercio 23/07/2022\n",
        "\n",
        "##Exercicio 1"
      ],
      "metadata": {
        "id": "FfmCZmGjq1KV"
      }
    },
    {
      "cell_type": "code",
      "source": [
        "x = int(input(\"Digite um Número Inteiro\"))\n",
        "if type(x) == int:\n",
        "  print(\"Você digitou um número inteiro\", x)"
      ],
      "metadata": {
        "id": "x3-6Fs71POGw"
      },
      "execution_count": null,
      "outputs": []
    },
    {
      "cell_type": "markdown",
      "source": [
        "Exercicio 2"
      ],
      "metadata": {
        "id": "2hZccccPrkM7"
      }
    },
    {
      "cell_type": "code",
      "source": [
        "numReal = float(input(\"Digite um número\"))\n",
        "if type(numReal) == float:\n",
        "  print(\"Você digitou um numero float\", numReal)"
      ],
      "metadata": {
        "id": "fmeyNN6Qrsw7"
      },
      "execution_count": null,
      "outputs": []
    },
    {
      "cell_type": "markdown",
      "source": [
        "Exercicio 3 "
      ],
      "metadata": {
        "id": "RFvQkX4dr4mL"
      }
    },
    {
      "cell_type": "code",
      "source": [
        "num1 = int(input(\"digite um numero \"))\n",
        "num2 = int(input(\"digite um numero \"))\n",
        "num3 = int(input(\"digite um numero \"))\n",
        "\n",
        "soma = num1 + num2 + num3\n",
        "print(f'A soma dos numeros digitados resultou em: {soma}')"
      ],
      "metadata": {
        "id": "hCClf0Dwr8Da"
      },
      "execution_count": null,
      "outputs": []
    },
    {
      "cell_type": "markdown",
      "source": [
        "Exercicio 4"
      ],
      "metadata": {
        "id": "i-_5Vlfir9b_"
      }
    },
    {
      "cell_type": "code",
      "source": [
        "num1 = int(input(\"digite um numero \"))\n",
        "\n",
        "result = num1 ** 2\n",
        "print(f\"O quadrado do numero {num1} resultou em: {result}\")"
      ],
      "metadata": {
        "id": "au7ct85msBef"
      },
      "execution_count": null,
      "outputs": []
    },
    {
      "cell_type": "markdown",
      "source": [
        "Exercicio 5"
      ],
      "metadata": {
        "id": "FrBi2JL8sFGS"
      }
    },
    {
      "cell_type": "code",
      "source": [
        "num1 = int(input(\"digite um numero \"))\n",
        "\n",
        "result = num1 / 5\n",
        "print(f\"A quinta parte  do numero {num1} resultou em: {result}\")"
      ],
      "metadata": {
        "id": "n0RG__YdsKCC"
      },
      "execution_count": null,
      "outputs": []
    },
    {
      "cell_type": "markdown",
      "source": [
        "Exercicio 6"
      ],
      "metadata": {
        "id": "kRbLCbXIsTIs"
      }
    },
    {
      "cell_type": "code",
      "source": [
        "num1 = int(input(\"digite a temperatura em celsius \"))\n",
        "\n",
        "eqEsc = (9/5) * num1 + 32 \n",
        "\n",
        "result = (num1 * 1.8 + 32)\n",
        "print(f\"A Temperatura em Celsius {num1} convertida para Fahrenheit resultou em: {round(eqEsc,2)}\")"
      ],
      "metadata": {
        "id": "gp_8VVMTsVJ4",
        "colab": {
          "base_uri": "https://localhost:8080/"
        },
        "outputId": "f05f9825-ecf5-46fd-e463-07cf0ec43e6d"
      },
      "execution_count": null,
      "outputs": [
        {
          "output_type": "stream",
          "name": "stdout",
          "text": [
            "digite a temperatura em celsius 30\n",
            "A Temperatura em Celsius 30 convertida para Fahrenheit resultou em: 86.0\n"
          ]
        }
      ]
    },
    {
      "cell_type": "markdown",
      "source": [
        "Exercicio 7"
      ],
      "metadata": {
        "id": "4rm4loqisiEt"
      }
    },
    {
      "cell_type": "code",
      "source": [
        "num1 = int(input(\"digite um numero \"))\n",
        "\n",
        "result = (num1 + 273.15)\n",
        "print(f\"A Temperatura em Kelvin convertida para Celsius resultou em: {round(result,2)}\")\n"
      ],
      "metadata": {
        "id": "JpzoKUnZspUd"
      },
      "execution_count": null,
      "outputs": []
    },
    {
      "cell_type": "markdown",
      "source": [
        "Exercicio 8"
      ],
      "metadata": {
        "id": "6zQ9xx3RssXS"
      }
    },
    {
      "cell_type": "code",
      "source": [
        "# o import serve para importar um biblioteca que desejamos\n",
        "# a biblioteca math serve para usarmos para algumas funções de matematica\n",
        "import math as mat\n",
        "\n",
        "\n",
        "num1 = int(input(\"digite o valor do angulo em graus \"))\n",
        "result = (2 *  mat.pi) / 360 * num1 \n",
        "\n",
        "print(f\"O valor do angulo {num1} em radiano é {round(result, 2)}\")"
      ],
      "metadata": {
        "colab": {
          "base_uri": "https://localhost:8080/"
        },
        "id": "TOUHNTlFsutL",
        "outputId": "b9a97937-3452-4210-df2a-afbec2a2efeb"
      },
      "execution_count": null,
      "outputs": [
        {
          "output_type": "stream",
          "name": "stdout",
          "text": [
            "digite o valor do angulo em graus 30\n",
            "O valor do angulo 30 em radiano é 0.52\n"
          ]
        }
      ]
    },
    {
      "cell_type": "markdown",
      "source": [
        "Exercicio 9"
      ],
      "metadata": {
        "id": "JmY9mwSGsyID"
      }
    },
    {
      "cell_type": "code",
      "source": [
        "# try e except serve para tratar erro, quando o usuário envia algum dado errado!\n",
        "while True:\n",
        "  try:\n",
        "    num1 = float(input(\" digite um numero \"))\n",
        "    result = num1 * 2.54\n",
        "    print(f\"A conversão de {num1} polegadas para centimetro resultou em: {result}\")\n",
        "    break\n",
        "  except ValueError:\n",
        "    print(\"Valor não valido, digite outro valor!\") \n",
        "\n",
        "\n"
      ],
      "metadata": {
        "id": "89u5OAYxs0tW"
      },
      "execution_count": null,
      "outputs": []
    },
    {
      "cell_type": "markdown",
      "source": [
        "Exercio 10"
      ],
      "metadata": {
        "id": "qWX4jwfrs4kT"
      }
    },
    {
      "cell_type": "code",
      "source": [
        "while True:\n",
        "  try:\n",
        "    num1 = float(input(\"digite um numero \"))\n",
        "    num2 = float(input(\"digite um numero \"))\n",
        "    num3 = float(input(\"digite um numero \"))\n",
        "\n",
        "    result1 = num1 ** 2\n",
        "    result2 = num2 ** 2\n",
        "    result3 = num3 ** 2\n",
        "\n",
        "    soma = result1 + result2 + result3\n",
        "    print(f\"A soma de todos os quadrados resultou em: {soma}\")\n",
        "    break\n",
        "  except ValueError:\n",
        "    print(\" Digite um numero\")"
      ],
      "metadata": {
        "id": "Zw6-EpRrs7UO"
      },
      "execution_count": null,
      "outputs": []
    },
    {
      "cell_type": "markdown",
      "source": [
        "Exercicio 11"
      ],
      "metadata": {
        "id": "70uhUmm1s-1g"
      }
    },
    {
      "cell_type": "code",
      "source": [
        "x = []\n",
        "\n",
        "while True:\n",
        "  try:\n",
        "    for i in range(4):\n",
        "      num = float(input(\" Digite um nota \"))\n",
        "      if num >= 0 and num <= 10:\n",
        "        x.append(num)\n",
        "      else: \n",
        "        print(\"Digite um numero valido\")\n",
        "      if len(x) == 4:\n",
        "        break\n",
        "    break\n",
        "  except ValueError:\n",
        "     print(\" Digite um número, não uma string1\")\n",
        "\n",
        "print(f'A média aritmética {sum(x) / 4}')\n"
      ],
      "metadata": {
        "id": "8r0ddc_MtA86"
      },
      "execution_count": null,
      "outputs": []
    },
    {
      "cell_type": "markdown",
      "source": [
        "Exercicio 12"
      ],
      "metadata": {
        "id": "29cxsjn2uzjb"
      }
    },
    {
      "cell_type": "code",
      "source": [
        "while True:\n",
        "  try:\n",
        "    num1 = float(input(\"digite um numero \"))\n",
        "\n",
        "    atnNum = num1 - 1\n",
        "    suceNum = num1 + 1\n",
        "\n",
        "    print(f\"O número digitado foi {num1} seu antecessor é {atnNum} e seu sucessor é {suceNum} \")\n",
        "    break\n",
        "  except ValueError:\n",
        "    print(\"Digite um numero valido!\")\n"
      ],
      "metadata": {
        "id": "z0ztr-sku2CH"
      },
      "execution_count": null,
      "outputs": []
    },
    {
      "cell_type": "markdown",
      "source": [
        "Exercicio 13"
      ],
      "metadata": {
        "id": "OohgM93RxrWa"
      }
    },
    {
      "cell_type": "code",
      "source": [
        "while True:\n",
        "  try:\n",
        "    num1 = float(input(\"digite um numero \"))\n",
        "\n",
        "    numAnt = (num1 + 1) * 3\n",
        "    numSuc = (num1 - 1) * 2\n",
        "\n",
        "    print(f\"O resultado da operação é {numAnt + numSuc}\")\n",
        "    break\n",
        "  except ValueError:\n",
        "    print(\"Digite um numero valido!\")"
      ],
      "metadata": {
        "id": "PvyvT9XFxtic"
      },
      "execution_count": null,
      "outputs": []
    },
    {
      "cell_type": "markdown",
      "source": [
        "Exercicio 14"
      ],
      "metadata": {
        "id": "I0Q2CF_sv3VW"
      }
    },
    {
      "cell_type": "code",
      "source": [
        "while True:\n",
        "  try:\n",
        "    num1 = float(input(\" digite um numero \"))\n",
        "\n",
        "    area = num1 * num1\n",
        "\n",
        "    print(f\"A area do quadro é {area}\")\n",
        "    break\n",
        "  except ValueError:\n",
        "    print(\"Digite um numero, não uma string1\")\n"
      ],
      "metadata": {
        "id": "sLWGfoqZv-6j"
      },
      "execution_count": null,
      "outputs": []
    },
    {
      "cell_type": "markdown",
      "source": [
        "Exercicio 15 "
      ],
      "metadata": {
        "id": "QIYdiefWxOg9"
      }
    },
    {
      "cell_type": "code",
      "source": [
        "while True:\n",
        "  try:\n",
        "    num1 = float(input(\"digite o valor do produto \"))\n",
        "\n",
        "    valorDesconto = (12/100) * (num1)\n",
        "\n",
        "    valorFinal = num1 - valorDesconto\n",
        "\n",
        "    print(f\"O valor final do produto ficou em {valorFinal}\")\n",
        "    break\n",
        "  except ValueError:\n",
        "    print('Digite o valor do produto, não uma string!')"
      ],
      "metadata": {
        "id": "2DYELJAkxQ65"
      },
      "execution_count": null,
      "outputs": []
    },
    {
      "cell_type": "markdown",
      "source": [
        "Exercio 16"
      ],
      "metadata": {
        "id": "GoNlfbEC1UUm"
      }
    },
    {
      "cell_type": "code",
      "source": [
        "while True:\n",
        "  try:\n",
        "    salario = float(input(\"Digite seu salario \"))\n",
        "\n",
        "    salarioAumentado = (25 / 100) * salario\n",
        "\n",
        "    print(f\"O seu novo salario é de {salarioAumentado + salario}\")\n",
        "    break\n",
        "  except ValueError:\n",
        "    print(\"Digite um numero\")"
      ],
      "metadata": {
        "id": "pGmISLcT1ZN_"
      },
      "execution_count": null,
      "outputs": []
    },
    {
      "cell_type": "markdown",
      "source": [
        "Exercio 17 "
      ],
      "metadata": {
        "id": "rWoxQ7D2zkQI"
      }
    },
    {
      "cell_type": "code",
      "source": [
        "while True:\n",
        "  try:\n",
        "    num1 = int(input(\"digite o valor da hora de trabalho em reais \"))\n",
        "    num2 = int(input(\"digite o numero de horas trabalhadas no mês \"))\n",
        "\n",
        "    valorSerPago = num1 * num2\n",
        "\n",
        "    valorAcrescimo = (10/100) * (valorSerPago)\n",
        "\n",
        "    salarioFinal = valorSerPago + valorAcrescimo\n",
        "\n",
        "    print(f\"O salario final será {salarioFinal}\")\n",
        "    break\n",
        "  except ValueError:\n",
        "    print(\"digite um numero, não uma string\")"
      ],
      "metadata": {
        "id": "2qnCDC3qznyt"
      },
      "execution_count": null,
      "outputs": []
    },
    {
      "cell_type": "markdown",
      "source": [
        "Exercio 18"
      ],
      "metadata": {
        "id": "sA2Z0sPs1j02"
      }
    },
    {
      "cell_type": "code",
      "source": [
        "import datetime\n",
        "\n",
        "dataAtual = datetime.datetime.now() \n",
        "while True:\n",
        "  try:\n",
        "    idade = int(input(\"Digite sua idade \"))\n",
        "\n",
        "    anoNasc = dataAtual.year - idade\n",
        "\n",
        "    print(f\"O ano do seu nascimento é {anoNasc}\")\n",
        "    break\n",
        "  except ValueError:\n",
        "    print('digite um numero, não uma string')"
      ],
      "metadata": {
        "id": "qQkDK3nP1mwq"
      },
      "execution_count": null,
      "outputs": []
    },
    {
      "cell_type": "markdown",
      "source": [
        "Exercicio 20"
      ],
      "metadata": {
        "id": "DtSZXIgr5kgq"
      }
    },
    {
      "cell_type": "code",
      "source": [
        "salarioBase = int(input(\"Digite seu salario base \"))\n",
        "\n",
        "salBaseAumentado = (5 / 100) * salarioBase\n",
        "salarioDesconto = (7/100) * salarioBase\n",
        "\n",
        "print(f\"seu salario atual é de: R$ {(salarioBase + salBaseAumentado) - salarioDesconto}\")"
      ],
      "metadata": {
        "id": "32kH6k2b5nza"
      },
      "execution_count": null,
      "outputs": []
    },
    {
      "cell_type": "markdown",
      "source": [
        "Exercicio 21"
      ],
      "metadata": {
        "id": "STC5BE4D19hM"
      }
    },
    {
      "cell_type": "code",
      "source": [
        "num1 = int(input(\"Digite um numero \"))\n",
        "num2 = int(input(\"Digite outro numero \"))\n",
        "\n",
        "if num1 > num2:\n",
        "    print(num1)\n",
        "else:\n",
        "    print(num2)"
      ],
      "metadata": {
        "id": "2zciFHR82E-T"
      },
      "execution_count": null,
      "outputs": []
    },
    {
      "cell_type": "markdown",
      "source": [
        "Exercicio 22"
      ],
      "metadata": {
        "id": "yL2cyUeO-hMP"
      }
    },
    {
      "cell_type": "code",
      "source": [
        "num1 = int(input(\"Digite um numero \"))\n",
        "\n",
        "if num1 > 0: \n",
        "  print(num1 ** 2)\n",
        "elif num1 <= 0:\n",
        "  print(f'número invalido {num1}')"
      ],
      "metadata": {
        "id": "c20-cheM-kkx"
      },
      "execution_count": null,
      "outputs": []
    },
    {
      "cell_type": "markdown",
      "source": [
        "Exercicio 37"
      ],
      "metadata": {
        "id": "7WWr4L8KK5QX"
      }
    },
    {
      "cell_type": "code",
      "source": [
        "while True:\n",
        "  try:\n",
        "    num = float(input(\" Digite o nivel de alerta \"))\n",
        "    if num > 9 and num < 10:\n",
        "      print(\"alerta grave\")\n",
        "      break\n",
        "    else:\n",
        "      print(\"alerta normal\")\n",
        "      break\n",
        "  except ValueError:\n",
        "    print(\" Digite um valor valido!\")"
      ],
      "metadata": {
        "colab": {
          "base_uri": "https://localhost:8080/"
        },
        "id": "aPO05eQ1K7jP",
        "outputId": "2ced8bae-7e54-411d-bd03-669188b0ee78"
      },
      "execution_count": 65,
      "outputs": [
        {
          "output_type": "stream",
          "name": "stdout",
          "text": [
            " Digite o nivel de alerta 20\n",
            "alerta grave\n"
          ]
        }
      ]
    },
    {
      "cell_type": "markdown",
      "source": [
        "Exercicio 38"
      ],
      "metadata": {
        "id": "v7sUnF98KImf"
      }
    },
    {
      "cell_type": "code",
      "source": [
        "while True:\n",
        "  try:\n",
        "    num = int(input(\" Digite um numero \"))\n",
        "\n",
        "    if num % 2 == 0 and num % 3 == 0:\n",
        "      print(\"É divisivel por 2 ou por 3\")\n",
        "      break\n",
        "    else:\n",
        "      print(\"Não é divisivel por 2 nem por 3\")\n",
        "      break\n",
        "  except ValueError:\n",
        "    print(\" Digite um numero \")"
      ],
      "metadata": {
        "colab": {
          "base_uri": "https://localhost:8080/"
        },
        "id": "YZVTJAnYKLDA",
        "outputId": "a2f39675-4260-4c77-95cc-560a11ba762a"
      },
      "execution_count": 62,
      "outputs": [
        {
          "output_type": "stream",
          "name": "stdout",
          "text": [
            " Digite um numero 2\n",
            "Não é divisivel por 2 nem por 3\n"
          ]
        }
      ]
    },
    {
      "cell_type": "markdown",
      "source": [
        "Exercicio 39"
      ],
      "metadata": {
        "id": "CVvBSr0aIALg"
      }
    },
    {
      "cell_type": "code",
      "source": [
        "while True:\n",
        "  try:\n",
        "    nota1 = float(input(\" Digite a primeira nota \"))\n",
        "    nota2 = float(input(\" Digite a segunda nota \"))\n",
        "    nota3 = float(input(\" Digite a terceira nota \"))\n",
        "\n",
        "    mediaAluno = (nota1 + nota2 + nota3) / 3;\n",
        "\n",
        "    if mediaAluno >= 6:\n",
        "      print('Aprovado!')\n",
        "      break\n",
        "    elif mediaAluno < 6:\n",
        "      print(\"Reprovado!\")\n",
        "      break\n",
        "  except ValueError:\n",
        "    print(\"Digite um Número inteiro!\")"
      ],
      "metadata": {
        "id": "EQId6b_DICr1"
      },
      "execution_count": null,
      "outputs": []
    },
    {
      "cell_type": "markdown",
      "source": [
        "Exercicio 40"
      ],
      "metadata": {
        "id": "OHDQg8OJ_mv7"
      }
    },
    {
      "cell_type": "code",
      "source": [
        "distancia = int(input(\" Digite a distancia que quer percorrer \"))\n",
        "litrosDeGasolina = float(input(\" Digite a quantidade de litros de gasolina que a no carro \"))\n",
        "\n",
        "media = distancia / litrosDeGasolina\n",
        "\n",
        "if media < 8:\n",
        "  print(\"Venda o carro!\")\n",
        "elif media > 8 and media < 14:\n",
        "  print(\"Econômico\")\n",
        "elif media > 12:\n",
        "  print(\"Super Econômico\")"
      ],
      "metadata": {
        "colab": {
          "base_uri": "https://localhost:8080/"
        },
        "id": "K-eAZLeD_t-L",
        "outputId": "02fbac56-a8de-4325-e764-d58e17ba8fdc"
      },
      "execution_count": 46,
      "outputs": [
        {
          "output_type": "stream",
          "name": "stdout",
          "text": [
            " Digite a distancia que quer percorrer 100\n",
            " Digite a quantidade de litros de gasolina que a no carro 1\n",
            "Super Econômico\n"
          ]
        }
      ]
    },
    {
      "cell_type": "markdown",
      "source": [
        "#Aula 05 \n",
        "\n",
        "## Tipo de operações"
      ],
      "metadata": {
        "id": "VKjla6vxD4Fb"
      }
    },
    {
      "cell_type": "code",
      "source": [
        "a = 5\n",
        "b = 7\n",
        "c = 10\n",
        "\n",
        "print(b/a)\n",
        "print(b%a)\n",
        "print(b//a)\n"
      ],
      "metadata": {
        "colab": {
          "base_uri": "https://localhost:8080/"
        },
        "id": "gXwvPzrCEHHE",
        "outputId": "bc8ffb50-99eb-4540-aa9b-ca01a0f8a007"
      },
      "execution_count": 1,
      "outputs": [
        {
          "output_type": "stream",
          "name": "stdout",
          "text": [
            "1.4\n",
            "2\n",
            "1\n"
          ]
        }
      ]
    },
    {
      "cell_type": "code",
      "source": [
        "a = 10\n",
        "m = 9\n",
        "#print(f\"quantidade de aluno é {a} e a média é {m}\")\n",
        "# a letra f na frente da string permitir colocar uma variavel no meio da string\n",
        "\n",
        "# codigo base\n",
        "\n",
        "# x = 34 - 23\n",
        "# y = \"hello\"\n",
        "# z = 3.45\n",
        "# if z == 3.45 or y == \"hello\":\n",
        "#   x = x + 1\n",
        "#   y = y + \"world\"\n",
        "# print(x)\n",
        "# print(y)"
      ],
      "metadata": {
        "id": "WqWRCPKg9Saa"
      },
      "execution_count": null,
      "outputs": []
    }
  ]
}