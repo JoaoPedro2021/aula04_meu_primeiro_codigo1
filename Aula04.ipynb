{
  "nbformat": 4,
  "nbformat_minor": 0,
  "metadata": {
    "colab": {
      "name": "Aula04.ipynb",
      "provenance": [],
      "collapsed_sections": [],
      "toc_visible": true,
      "authorship_tag": "ABX9TyPmdBWTwlDjEhj5Lr3WgI4g",
      "include_colab_link": true
    },
    "kernelspec": {
      "name": "python3",
      "display_name": "Python 3"
    },
    "language_info": {
      "name": "python"
    }
  },
  "cells": [
    {
      "cell_type": "markdown",
      "metadata": {
        "id": "view-in-github",
        "colab_type": "text"
      },
      "source": [
        "<a href=\"https://colab.research.google.com/github/JoaoPedro2021/aula04_meu_primeiro_codigo1/blob/main/Aula04.ipynb\" target=\"_parent\"><img src=\"https://colab.research.google.com/assets/colab-badge.svg\" alt=\"Open In Colab\"/></a>"
      ]
    },
    {
      "cell_type": "markdown",
      "source": [
        "#Esse é o meu primeiro codigo em python!\n",
        "##semelhança com pseudocodigo"
      ],
      "metadata": {
        "id": "XZcYmfVVBdWR"
      }
    },
    {
      "cell_type": "code",
      "execution_count": null,
      "metadata": {
        "id": "XPq1ney2BLe_"
      },
      "outputs": [],
      "source": [
        "x = 5\n",
        "if x == 5:\n",
        "  y = 0\n",
        "  while y < 4:\n",
        "    print('Valor de é y', y)\n",
        "    # print('\\n') Essa linha codigo pula uma linha \n",
        "    y = y + 1\n",
        "    print('\\n')\n",
        "    \n",
        "    for i in [5,6,7,8,9]:\n",
        "      print(i)\n",
        "    print('\\n')\n",
        "\n",
        "    for i in range(10):\n",
        "      print(i)\n",
        "    print('\\n')\n",
        "\n",
        "    for i in range(5,10):\n",
        "      print(i)\n",
        "    print('\\n')\n",
        "\n",
        "    for i in range(5,10,2):\n",
        "      print(i)\n",
        "    print('\\n')"
      ]
    },
    {
      "cell_type": "markdown",
      "source": [
        "Ctrl  + / Comenta o codigo\n",
        "##Qual o tipo de variavel ?\n",
        "##\n",
        "##Voltando para semelhança com pseudocodigo\n",
        "##\n",
        "##Input"
      ],
      "metadata": {
        "id": "iLe4Mmz4GCOE"
      }
    },
    {
      "cell_type": "code",
      "source": [
        "# print(type(x))  Type uma função que devolve o tipo da variavel\n",
        "# print(type(\"x\"))\n",
        "# input pede a entreda de dado fornecida pelo usuario\n",
        "# nome = input('Escreva seu nome')\n",
        "# print('o nome digitado foi ', nome)"
      ],
      "metadata": {
        "id": "JBPVYvcWEAO9"
      },
      "execution_count": null,
      "outputs": []
    },
    {
      "cell_type": "code",
      "source": [
        "num  = int(input('Escreva um numero '))\n",
        "print('você digitou o número', num)\n"
      ],
      "metadata": {
        "id": "L8xWfHhnInb0",
        "colab": {
          "base_uri": "https://localhost:8080/"
        },
        "outputId": "29e9e117-1d51-4461-b9b0-15816d06c1aa"
      },
      "execution_count": null,
      "outputs": [
        {
          "output_type": "stream",
          "name": "stdout",
          "text": [
            "Escreva um numero 2\n",
            "você digitou o número 2\n"
          ]
        }
      ]
    },
    {
      "cell_type": "code",
      "source": [],
      "metadata": {
        "id": "3X27EDHUrFBR"
      },
      "execution_count": null,
      "outputs": []
    },
    {
      "cell_type": "markdown",
      "source": [
        "#Lista de exercio 23/07/2022\n",
        "\n",
        "##Exercicio 1"
      ],
      "metadata": {
        "id": "FfmCZmGjq1KV"
      }
    },
    {
      "cell_type": "code",
      "source": [
        "x = int(input(\"Digite um Número Inteiro\"))\n",
        "if type(x) == int:\n",
        "  print(\"Você digitou um número inteiro\", x)"
      ],
      "metadata": {
        "id": "x3-6Fs71POGw"
      },
      "execution_count": null,
      "outputs": []
    },
    {
      "cell_type": "markdown",
      "source": [
        "Exercicio 2"
      ],
      "metadata": {
        "id": "2hZccccPrkM7"
      }
    },
    {
      "cell_type": "code",
      "source": [
        "numReal = float(input(\"Digite um número\"))\n",
        "if type(numReal) == float:\n",
        "  print(\"Você digitou um numero float\", numReal)"
      ],
      "metadata": {
        "id": "fmeyNN6Qrsw7"
      },
      "execution_count": null,
      "outputs": []
    },
    {
      "cell_type": "markdown",
      "source": [
        "Exercicio 3 "
      ],
      "metadata": {
        "id": "RFvQkX4dr4mL"
      }
    },
    {
      "cell_type": "code",
      "source": [
        "num1 = int(input(\"digite um numero \"))\n",
        "num2 = int(input(\"digite um numero \"))\n",
        "num3 = int(input(\"digite um numero \"))\n",
        "\n",
        "soma = num1 + num2 + num3\n",
        "print(f'A soma dos numeros digitados resultou em: {soma}')"
      ],
      "metadata": {
        "id": "hCClf0Dwr8Da"
      },
      "execution_count": null,
      "outputs": []
    },
    {
      "cell_type": "markdown",
      "source": [
        "Exercicio 4"
      ],
      "metadata": {
        "id": "i-_5Vlfir9b_"
      }
    },
    {
      "cell_type": "code",
      "source": [
        "num1 = int(input(\"digite um numero \"))\n",
        "\n",
        "result = num1 ** 2\n",
        "print(f\"O quadrado do numero {num1} resultou em: {result}\")"
      ],
      "metadata": {
        "id": "au7ct85msBef"
      },
      "execution_count": null,
      "outputs": []
    },
    {
      "cell_type": "markdown",
      "source": [
        "Exercicio 5"
      ],
      "metadata": {
        "id": "FrBi2JL8sFGS"
      }
    },
    {
      "cell_type": "code",
      "source": [
        "num1 = int(input(\"digite um numero \"))\n",
        "\n",
        "result = num1 / 5\n",
        "print(f\"A quinta parte  do numero {num1} resultou em: {result}\")"
      ],
      "metadata": {
        "id": "n0RG__YdsKCC"
      },
      "execution_count": null,
      "outputs": []
    },
    {
      "cell_type": "markdown",
      "source": [
        "Exercicio 6"
      ],
      "metadata": {
        "id": "kRbLCbXIsTIs"
      }
    },
    {
      "cell_type": "code",
      "source": [
        "num1 = int(input(\"digite a temperatura em celsius \"))\n",
        "\n",
        "eqEsc = (9/5) * num1 + 32 \n",
        "\n",
        "result = (num1 * 1.8 + 32)\n",
        "print(f\"A Temperatura em Celsius {num1} convertida para Fahrenheit resultou em: {round(eqEsc,2)}\")"
      ],
      "metadata": {
        "id": "gp_8VVMTsVJ4",
        "colab": {
          "base_uri": "https://localhost:8080/"
        },
        "outputId": "f05f9825-ecf5-46fd-e463-07cf0ec43e6d"
      },
      "execution_count": 2,
      "outputs": [
        {
          "output_type": "stream",
          "name": "stdout",
          "text": [
            "digite a temperatura em celsius 30\n",
            "A Temperatura em Celsius 30 convertida para Fahrenheit resultou em: 86.0\n"
          ]
        }
      ]
    },
    {
      "cell_type": "markdown",
      "source": [
        "Exercicio 7"
      ],
      "metadata": {
        "id": "4rm4loqisiEt"
      }
    },
    {
      "cell_type": "code",
      "source": [
        "num1 = int(input(\"digite um numero \"))\n",
        "\n",
        "result = (num1 + 273.15)\n",
        "print(f\"A Temperatura em Kelvin convertida para Celsius resultou em: {round(result,2)}\")\n"
      ],
      "metadata": {
        "id": "JpzoKUnZspUd"
      },
      "execution_count": null,
      "outputs": []
    },
    {
      "cell_type": "markdown",
      "source": [
        "Exercicio 8"
      ],
      "metadata": {
        "id": "6zQ9xx3RssXS"
      }
    },
    {
      "cell_type": "code",
      "source": [
        "# o import serve para importar um biblioteca que desejamos\n",
        "# a biblioteca math serve para usarmos para algumas funções de matematica\n",
        "import math as mat\n",
        "\n",
        "\n",
        "num1 = int(input(\"digite o valor do angulo em graus \"))\n",
        "result = (2 *  mat.pi) / 360 * num1 \n",
        "\n",
        "print(f\"O valor do angulo {num1} em radiano é {round(result, 2)}\")"
      ],
      "metadata": {
        "colab": {
          "base_uri": "https://localhost:8080/"
        },
        "id": "TOUHNTlFsutL",
        "outputId": "b9a97937-3452-4210-df2a-afbec2a2efeb"
      },
      "execution_count": 15,
      "outputs": [
        {
          "output_type": "stream",
          "name": "stdout",
          "text": [
            "digite o valor do angulo em graus 30\n",
            "O valor do angulo 30 em radiano é 0.52\n"
          ]
        }
      ]
    },
    {
      "cell_type": "markdown",
      "source": [
        "Exercicio 9"
      ],
      "metadata": {
        "id": "JmY9mwSGsyID"
      }
    },
    {
      "cell_type": "code",
      "source": [
        "num1 = int(input(\"digite um numero \"))\n",
        "\n",
        "result = num1 * 2.54\n",
        "\n",
        "print(f\"A conversão de {num1} em polegadas para centimetro resultou em: {result}\")"
      ],
      "metadata": {
        "id": "89u5OAYxs0tW"
      },
      "execution_count": null,
      "outputs": []
    },
    {
      "cell_type": "markdown",
      "source": [
        "Exercio 10"
      ],
      "metadata": {
        "id": "qWX4jwfrs4kT"
      }
    },
    {
      "cell_type": "code",
      "source": [
        "num1 = int(input(\"digite um numero \"))\n",
        "num2 = int(input(\"digite um numero \"))\n",
        "num3 = int(input(\"digite um numero \"))\n",
        "\n",
        "result1 = num1 ** 2\n",
        "result2 = num2 ** 2\n",
        "result3 = num3 ** 2\n",
        "\n",
        "soma = result1 + result2 + result3\n",
        "print(f\"A soma de todos os quadrados resultou em: {soma}\")"
      ],
      "metadata": {
        "id": "Zw6-EpRrs7UO"
      },
      "execution_count": null,
      "outputs": []
    },
    {
      "cell_type": "markdown",
      "source": [
        "Exercicio 11"
      ],
      "metadata": {
        "id": "70uhUmm1s-1g"
      }
    },
    {
      "cell_type": "code",
      "source": [
        "num1 = int(input(\"digite um numero \"))\n",
        "num2 = int(input(\"digite um numero \"))\n",
        "num3 = int(input(\"digite um numero \"))\n",
        "num4 = int(input(\"digite um numero \"))\n",
        "\n",
        "result = (num1 + num2 + num3 + num4) / 4\n",
        "\n",
        "print(f\"A média aritmética resultou em: {result}\")"
      ],
      "metadata": {
        "id": "8r0ddc_MtA86"
      },
      "execution_count": null,
      "outputs": []
    },
    {
      "cell_type": "markdown",
      "source": [
        "Exercicio 12"
      ],
      "metadata": {
        "id": "29cxsjn2uzjb"
      }
    },
    {
      "cell_type": "code",
      "source": [
        "num1 = int(input(\"digite um numero \"))\n",
        "\n",
        "atnNum = num1 - 1\n",
        "suceNum = num1 + 1\n",
        "\n",
        "print(f\"O número digitado foi {num1} seu antecessor é {atnNum} e seu sucessor é {suceNum} \")\n"
      ],
      "metadata": {
        "id": "z0ztr-sku2CH"
      },
      "execution_count": null,
      "outputs": []
    },
    {
      "cell_type": "markdown",
      "source": [
        "Exercicio 13"
      ],
      "metadata": {
        "id": "OohgM93RxrWa"
      }
    },
    {
      "cell_type": "code",
      "source": [
        "num1 = int(input(\"digite um numero \"))\n",
        "\n",
        "numAnt = (num1 + 1) * 3\n",
        "numSuc = (num1 - 1) * 2\n",
        "\n",
        "print(f\"O resultado da operação é {numAnt + numSuc}\")"
      ],
      "metadata": {
        "id": "PvyvT9XFxtic"
      },
      "execution_count": null,
      "outputs": []
    },
    {
      "cell_type": "markdown",
      "source": [
        "Exercicio 14"
      ],
      "metadata": {
        "id": "I0Q2CF_sv3VW"
      }
    },
    {
      "cell_type": "code",
      "source": [
        "num1 = int(input(\"digite o lado do quadrado \"))\n",
        "\n",
        "area = num1 * num1\n",
        "\n",
        "print(f\"A area do quadro é {area}\")\n"
      ],
      "metadata": {
        "id": "sLWGfoqZv-6j"
      },
      "execution_count": null,
      "outputs": []
    },
    {
      "cell_type": "markdown",
      "source": [
        "Exercicio 15 "
      ],
      "metadata": {
        "id": "QIYdiefWxOg9"
      }
    },
    {
      "cell_type": "code",
      "source": [
        "num1 = int(input(\"digite o valor do produto \"))\n",
        "\n",
        "valorDesconto = (12/100) * (num1)\n",
        "\n",
        "valorFinal = num1 - valorDesconto\n",
        "\n",
        "print(f\"O valor final do produto ficou em {valorFinal}\")"
      ],
      "metadata": {
        "id": "2DYELJAkxQ65"
      },
      "execution_count": null,
      "outputs": []
    },
    {
      "cell_type": "markdown",
      "source": [
        "Exercio 16"
      ],
      "metadata": {
        "id": "GoNlfbEC1UUm"
      }
    },
    {
      "cell_type": "code",
      "source": [
        "salario = int(input(\"Digite seu salario \"))\n",
        "\n",
        "salarioAumentado = (25 / 100) * salario\n",
        "\n",
        "print(f\"O seu novo salario é de {salarioAumentado + salario}\")"
      ],
      "metadata": {
        "id": "pGmISLcT1ZN_"
      },
      "execution_count": null,
      "outputs": []
    },
    {
      "cell_type": "markdown",
      "source": [
        "Exercio 17 "
      ],
      "metadata": {
        "id": "rWoxQ7D2zkQI"
      }
    },
    {
      "cell_type": "code",
      "source": [
        "num1 = int(input(\"digite o valor da hora de trabalho em reais \"))\n",
        "num2 = int(input(\"digite o numero de horas trabalhadas no mês \"))\n",
        "\n",
        "valorSerPago = num1 * num2\n",
        "\n",
        "valorAcrescimo = (10/100) * (valorSerPago)\n",
        "\n",
        "salarioFinal = valorSerPago + valorAcrescimo\n",
        "\n",
        "print(f\"O salario final será {salarioFinal}\")"
      ],
      "metadata": {
        "id": "2qnCDC3qznyt"
      },
      "execution_count": null,
      "outputs": []
    },
    {
      "cell_type": "markdown",
      "source": [
        "Exercio 18"
      ],
      "metadata": {
        "id": "sA2Z0sPs1j02"
      }
    },
    {
      "cell_type": "code",
      "source": [
        "import datetime\n",
        "\n",
        "dataAtual = datetime.datetime.now() \n",
        "idade = int(input(\"Digite sua idade \"))\n",
        "\n",
        "anoNasc = dataAtual.year - idade\n",
        "\n",
        "print(f\"O ano do seu nascimento é {anoNasc}\")"
      ],
      "metadata": {
        "id": "qQkDK3nP1mwq"
      },
      "execution_count": null,
      "outputs": []
    },
    {
      "cell_type": "markdown",
      "source": [
        "Exercicio 20"
      ],
      "metadata": {
        "id": "DtSZXIgr5kgq"
      }
    },
    {
      "cell_type": "code",
      "source": [
        "salarioBase = int(input(\"Digite seu salario base \"))\n",
        "\n",
        "salBaseAumentado = (5 / 100) * salarioBase\n",
        "salarioDesconto = (7/100) * salarioBase\n",
        "\n",
        "print(f\"seu salario atual é de: R$ {(salarioBase + salBaseAumentado) - salarioDesconto}\")"
      ],
      "metadata": {
        "id": "32kH6k2b5nza"
      },
      "execution_count": null,
      "outputs": []
    },
    {
      "cell_type": "markdown",
      "source": [
        "Exercicio 21"
      ],
      "metadata": {
        "id": "STC5BE4D19hM"
      }
    },
    {
      "cell_type": "code",
      "source": [
        "num1 = int(input(\"Digite um numero \"))\n",
        "num2 = int(input(\"Digite outro numero \"))\n",
        "\n",
        "if num1 > num2:\n",
        "    print(num1)\n",
        "else:\n",
        "    print(num2)"
      ],
      "metadata": {
        "id": "2zciFHR82E-T"
      },
      "execution_count": null,
      "outputs": []
    },
    {
      "cell_type": "code",
      "source": [
        "a = 10\n",
        "m = 9\n",
        "#print(f\"quantidade de aluno é {a} e a média é {m}\")\n",
        "# a letra f na frente da string permitir colocar uma variavel no meio da string\n",
        "\n",
        "# codigo base\n",
        "\n",
        "# x = 34 - 23\n",
        "# y = \"hello\"\n",
        "# z = 3.45\n",
        "# if z == 3.45 or y == \"hello\":\n",
        "#   x = x + 1\n",
        "#   y = y + \"world\"\n",
        "# print(x)\n",
        "# print(y)"
      ],
      "metadata": {
        "id": "WqWRCPKg9Saa"
      },
      "execution_count": null,
      "outputs": []
    },
    {
      "cell_type": "markdown",
      "source": [
        "#Aula 05 \n",
        "\n",
        "## Tipo de operações"
      ],
      "metadata": {
        "id": "VKjla6vxD4Fb"
      }
    },
    {
      "cell_type": "code",
      "source": [
        "a = 5\n",
        "b = 6\n",
        "c = 10\n",
        "\n",
        "print(a + b)\n",
        "print(b - c)\n",
        "print(a * b)\n",
        "print(6/5)\n",
        "print(6%5)\n"
      ],
      "metadata": {
        "colab": {
          "base_uri": "https://localhost:8080/"
        },
        "id": "gXwvPzrCEHHE",
        "outputId": "e9104ede-b53f-4473-8503-c4c16a4e669a"
      },
      "execution_count": 10,
      "outputs": [
        {
          "output_type": "stream",
          "name": "stdout",
          "text": [
            "11\n",
            "-4\n",
            "30\n",
            "1.2\n",
            "1\n"
          ]
        }
      ]
    }
  ]
}